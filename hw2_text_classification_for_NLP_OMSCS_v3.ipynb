{
  "cells": [
    {
      "cell_type": "markdown",
      "metadata": {
        "id": "view-in-github",
        "colab_type": "text"
      },
      "source": [
        "<a href=\"https://colab.research.google.com/github/taiyi-fang/Evaluation/blob/main/hw2_text_classification_for_NLP_OMSCS_v3.ipynb\" target=\"_parent\"><img src=\"https://colab.research.google.com/assets/colab-badge.svg\" alt=\"Open In Colab\"/></a>"
      ]
    },
    {
      "cell_type": "markdown",
      "metadata": {
        "editable": false,
        "id": "ywvLShfXIKS1",
        "tags": []
      },
      "source": [
        "# NLP Classification\n",
        "\n",
        "In this assignment we look at several ways of classifying texts:\n",
        "- Naive Bayes\n",
        "- Logistic Regression\n",
        "- Multinomial Regression\n",
        "\n",
        "We also look at binary label classification problems (e.g., sentiment analysis) and multinomial classification problems (e.g., topic analysis).\n",
        "\n",
        "We will use two datasets:\n",
        "- [IMDb movie review sentiment](http://ai.stanford.edu/~amaas/data/sentiment/)\n",
        "- [AG News topics](https://huggingface.co/datasets/ag_news)\n",
        "\n",
        "**Tips:**\n",
        "- Read all the code. We don't ask you to write the training loops, or evaluation loops, but it is often instructive to see how the models are trained and evaluated.\n",
        "- If you have a model that is learning (loss is decreasing), but you want to increase accuracy, try using ``nn.Dropout`` layers just before the final linear layer to force the model to handle missing or unfamiliar data."
      ]
    },
    {
      "cell_type": "code",
      "execution_count": null,
      "metadata": {
        "editable": false,
        "tags": [
          "raises-exception"
        ],
        "id": "BIktLO-8681K"
      },
      "outputs": [],
      "source": [
        "# start time - notebook execution\n",
        "import time\n",
        "start_nb = time.time()"
      ]
    },
    {
      "cell_type": "code",
      "source": [
        "# !pip install -r requirements.txt"
      ],
      "metadata": {
        "id": "XjksdPi37t0r"
      },
      "execution_count": null,
      "outputs": []
    },
    {
      "cell_type": "markdown",
      "metadata": {
        "editable": false,
        "id": "1xVv6McXodZG",
        "tags": []
      },
      "source": [
        "# Set up"
      ]
    },
    {
      "cell_type": "markdown",
      "metadata": {
        "editable": false,
        "id": "vMRiPTv7vHe2",
        "tags": []
      },
      "source": [
        "Import packages."
      ]
    },
    {
      "cell_type": "code",
      "execution_count": null,
      "metadata": {
        "editable": false,
        "id": "S5VeRBOiIKS4",
        "tags": [
          "raises-exception"
        ]
      },
      "outputs": [],
      "source": [
        "import nltk\n",
        "import numpy as np\n",
        "import os\n",
        "import pandas as pd\n",
        "import re\n",
        "import torch\n",
        "import torch.nn as nn\n",
        "import torch.optim as optim"
      ]
    },
    {
      "cell_type": "markdown",
      "metadata": {
        "collapsed": false,
        "editable": false,
        "tags": [],
        "id": "tskEz4ZU681L"
      },
      "source": [
        "# Initialize the Autograder"
      ]
    },
    {
      "cell_type": "code",
      "execution_count": null,
      "metadata": {
        "editable": false,
        "tags": [
          "raises-exception"
        ],
        "id": "t82U7CdK681L"
      },
      "outputs": [],
      "source": [
        "# import the autograder tests\n",
        "import hw2_tests as ag"
      ]
    },
    {
      "cell_type": "markdown",
      "metadata": {
        "editable": false,
        "id": "qyRo0v0JIKTK",
        "tags": []
      },
      "source": [
        "# Functions for cleaning up raw texts and tokenizing the corpus\n",
        "\n",
        "We perform text preprocessing that includes: removing HTML tags, making text lower case, stemming, and disposing of stopwords.\n",
        "In the end, we will split the entire dataset into training, validation and test sets."
      ]
    },
    {
      "cell_type": "code",
      "execution_count": null,
      "metadata": {
        "editable": false,
        "id": "JvfvVWHyIKTL",
        "tags": [
          "raises-exception"
        ]
      },
      "outputs": [],
      "source": [
        "# Stemming the text\n",
        "def simple_stemmer(text):\n",
        "    ps=nltk.porter.PorterStemmer()\n",
        "    text= [ps.stem(word) for word in text]\n",
        "    return text"
      ]
    },
    {
      "cell_type": "code",
      "execution_count": null,
      "metadata": {
        "editable": false,
        "id": "Wr_LdWWoIKTL",
        "tags": [
          "raises-exception"
        ]
      },
      "outputs": [],
      "source": [
        "stopwords_english = [\"i\", \"me\", \"my\", \"myself\", \"we\", \"our\", \"ours\", \"ourselves\", \"you\", \"your\", \"yours\", \"yourself\", \"yourselves\", \"he\", \"him\", \"his\", \"himself\", \"she\", \"her\", \"hers\", \"herself\", \"it\", \"its\", \"itself\", \"they\", \"them\", \"their\", \"theirs\", \"themselves\", \"what\", \"which\", \"who\", \"whom\", \"this\", \"that\", \"these\", \"those\", \"am\", \"is\", \"are\", \"was\", \"were\", \"be\", \"been\", \"being\", \"have\", \"has\", \"had\", \"having\", \"do\", \"does\", \"did\", \"doing\", \"a\", \"an\", \"the\", \"and\", \"but\", \"if\", \"or\", \"because\", \"as\", \"until\", \"while\", \"of\", \"at\", \"by\", \"for\", \"with\", \"about\", \"against\", \"between\", \"into\", \"through\", \"during\", \"before\", \"after\", \"above\", \"below\", \"to\", \"from\", \"up\", \"down\", \"in\", \"out\", \"on\", \"off\", \"over\", \"under\", \"again\", \"further\", \"then\", \"once\", \"here\", \"there\", \"when\", \"where\", \"why\", \"how\", \"all\", \"any\", \"both\", \"each\", \"few\", \"more\", \"most\", \"other\", \"some\", \"such\", \"no\", \"nor\", \"not\", \"only\", \"own\", \"same\", \"so\", \"than\", \"too\", \"very\", \"s\", \"t\", \"can\", \"will\", \"just\", \"don\", \"should\", \"now\"]\n",
        "print(stopwords_english)\n",
        "\n",
        "#removing the stopwords\n",
        "def remove_stopwords(text, stopword_list):\n",
        "    tokens = [token.strip() for token in text]\n",
        "    filtered_tokens = [token for token in tokens if token.lower() not in stopword_list]\n",
        "    return filtered_tokens"
      ]
    },
    {
      "cell_type": "code",
      "execution_count": null,
      "metadata": {
        "editable": false,
        "id": "NCXHv_tZIKTM",
        "tags": [
          "raises-exception"
        ]
      },
      "outputs": [],
      "source": [
        "def tokenize_and_clean(line, stem_and_remove_stop_words = True):\n",
        "\n",
        "    line = re.sub(r\"<.*?>\", \"\", line).strip() # remove all HTML tags\n",
        "    line = re.sub(r'[^a-zA-Z0-9]', ' ', line) # remove punc\n",
        "    line = line.lower().split()  # lower case\n",
        "    if stem_and_remove_stop_words:\n",
        "        line = remove_stopwords(line, stopwords_english)\n",
        "        line = simple_stemmer(line)\n",
        "\n",
        "    return line"
      ]
    },
    {
      "cell_type": "markdown",
      "metadata": {
        "editable": false,
        "id": "ohc6u_lDIKS-",
        "tags": []
      },
      "source": [
        "# Download and unpack the sentiment data\n",
        "\n"
      ]
    },
    {
      "cell_type": "markdown",
      "metadata": {
        "editable": false,
        "id": "zIklHox9vjMI",
        "tags": []
      },
      "source": [
        "We are using IMDb Dataset for binary sentiment classification that provides a set of 25K highly polar reviews for training, and 25K for testing\n",
        "(each set contains an equal number of positive and negative examples).\n",
        "\n",
        "Dataset folder structure is as follows:\n",
        "\n",
        "dataset/ \\\n",
        "├── test/ \\\n",
        "│     ├── pos/ \\\n",
        "│     ├── neg/ \\\n",
        "├── train/ \\\n",
        "      ├── pos/ \\\n",
        "      └── neg/"
      ]
    },
    {
      "cell_type": "code",
      "execution_count": null,
      "metadata": {
        "editable": false,
        "tags": [
          "raises-exception"
        ],
        "id": "pxYJtzVj681M"
      },
      "outputs": [],
      "source": [
        "# check if dataset is downloaded\n",
        "if not os.path.isfile('aclImdb_v1.tar'):\n",
        "    print(\"Downloading dataset...\")\n",
        "    !wget http://ai.stanford.edu/~amaas/data/sentiment/aclImdb_v1.tar.gz\n",
        "    !gunzip aclImdb_v1.tar.gz\n",
        "    !tar -xvf aclImdb_v1.tar"
      ]
    },
    {
      "cell_type": "markdown",
      "metadata": {
        "editable": false,
        "id": "GRD03KapvnI0",
        "tags": []
      },
      "source": [
        "Load in the text from the folders."
      ]
    },
    {
      "cell_type": "code",
      "execution_count": null,
      "metadata": {
        "editable": false,
        "id": "HI3VdrTnIKTO",
        "tags": [
          "raises-exception"
        ]
      },
      "outputs": [],
      "source": [
        "def load_text_from_folders(path, file_list, dataset, samples = 2000, stem_and_remove_stop_words = True):\n",
        "    \"\"\"Read set of files from given directory and save returned lines to list.\n",
        "\n",
        "    Parameters\n",
        "    ----------\n",
        "    path : str\n",
        "        Absolute or relative path to given file (or set of files).\n",
        "    file_list: list\n",
        "        List of files names to read.\n",
        "    dataset: list\n",
        "        List that stores read lines.\n",
        "    samples: int\n",
        "        Number of samples in the output\n",
        "    \"\"\"\n",
        "    for i, file in enumerate(file_list):\n",
        "        if i >= samples:\n",
        "            break\n",
        "        with open(os.path.join(path, file), 'r', encoding='utf8') as text:\n",
        "            contents = text.read()\n",
        "            contents_tokenized = tokenize_and_clean(contents, stem_and_remove_stop_words=stem_and_remove_stop_words)\n",
        "            dataset.append(contents_tokenized)"
      ]
    },
    {
      "cell_type": "markdown",
      "metadata": {
        "editable": false,
        "id": "_8KuCNoXIKTO",
        "tags": []
      },
      "source": [
        "# Creating training and test sets\n",
        "\n",
        "This creates four arrays:\n",
        "\n",
        "\n",
        "*   ```train_pos``` -- instances in the training set with positive sentiment labels\n",
        "*   ```train_neg``` -- instances in the training set with negative sentiment labels\n",
        "*   ```test_pos``` -- instances in the testing set with positive sentiment labels\n",
        "*   ```test_neg``` -- instances in the testing set with negative sentiment labels\n",
        "\n",
        "\n",
        "\n"
      ]
    },
    {
      "cell_type": "code",
      "execution_count": null,
      "metadata": {
        "editable": false,
        "id": "4Nv5FvBIIKTO",
        "tags": [
          "raises-exception"
        ]
      },
      "outputs": [],
      "source": [
        "# Path to dataset location\n",
        "path = 'aclImdb/'\n",
        "\n",
        "# Create lists that will contain read lines\n",
        "train_pos, train_neg, test_pos, test_neg = [], [], [], []\n",
        "\n",
        "# Create a dictionary of paths and lists that store lines (key: value = path: list)\n",
        "sets_dict = {'train/pos/': train_pos, 'train/neg/': train_neg,\n",
        "             'test/pos/': test_pos, 'test/neg/': test_neg}\n",
        "\n",
        "# Load the data\n",
        "for dataset in sets_dict:\n",
        "  file_list = [f for f in sorted(os.listdir(os.path.join(path, dataset))) if f.endswith('.txt')]\n",
        "  load_text_from_folders(os.path.join(path, dataset), file_list, sets_dict[dataset])"
      ]
    },
    {
      "cell_type": "markdown",
      "metadata": {
        "editable": false,
        "id": "3t5nCE_xpvx7",
        "tags": []
      },
      "source": [
        "Convert into Pandas dataframes. Pandas is a virtual spreadsheet with a programmatic API. A ```DataFrame``` is a spreadsheet. We will make a spreadsheet of training data and one for testing data and one with everything together."
      ]
    },
    {
      "cell_type": "code",
      "execution_count": null,
      "metadata": {
        "editable": false,
        "id": "kovNgXqIIKTP",
        "tags": [
          "raises-exception"
        ]
      },
      "outputs": [],
      "source": [
        "# Concatenate training and testing examples into one dataset\n",
        "TRAIN = pd.concat([pd.DataFrame({'review': train_pos, 'label':1}),\n",
        "                     pd.DataFrame({'review': train_neg, 'label':0})],\n",
        "                     axis=0, ignore_index=True)\n",
        "\n",
        "TEST = pd.concat([pd.DataFrame({'review': test_pos, 'label':1}),\n",
        "                    pd.DataFrame({'review': test_neg, 'label':0})],\n",
        "                    axis=0, ignore_index=True)\n",
        "\n",
        "ALL = pd.concat([TRAIN, TEST])"
      ]
    },
    {
      "cell_type": "markdown",
      "metadata": {
        "editable": false,
        "id": "CKUFtqERp79N",
        "tags": []
      },
      "source": [
        "Look at the data.\n",
        "\n",
        "This is a summary of the data. We see that the data is balanced between labels"
      ]
    },
    {
      "cell_type": "code",
      "execution_count": null,
      "metadata": {
        "editable": false,
        "id": "0xPnt_CDIKTP",
        "tags": [
          "raises-exception"
        ]
      },
      "outputs": [],
      "source": [
        "TRAIN.label.value_counts()"
      ]
    },
    {
      "cell_type": "markdown",
      "metadata": {
        "editable": false,
        "id": "QlV_TMBLqOYB",
        "tags": []
      },
      "source": [
        "This is the first few rows of the training set:"
      ]
    },
    {
      "cell_type": "code",
      "execution_count": null,
      "metadata": {
        "editable": false,
        "id": "InVC2IvnIKTQ",
        "tags": [
          "raises-exception"
        ]
      },
      "outputs": [],
      "source": [
        "TRAIN.head()"
      ]
    },
    {
      "cell_type": "markdown",
      "metadata": {
        "editable": false,
        "id": "3jP5U6usIKTR",
        "tags": []
      },
      "source": [
        "# Creating a vocabulary file\n",
        "\n",
        "Next, we have to build a vocabulary. This is effectively a look-up table where every unique word in your data set has a corresponding index (an integer).\n",
        "We do this as our machine learning model cannot operate on strings, but only numbers. Each index is used to construct a one-hot vector for each word."
      ]
    },
    {
      "cell_type": "code",
      "execution_count": null,
      "metadata": {
        "editable": false,
        "id": "Oz6hQlCgqckU",
        "tags": [
          "raises-exception"
        ]
      },
      "outputs": [],
      "source": [
        "class Vocab:\n",
        "    def __init__(self, name):\n",
        "        self.name = name\n",
        "        self._word2index = {}\n",
        "        self._word2count = {}\n",
        "        self._index2word = {}\n",
        "        self._n_words = 0\n",
        "\n",
        "    def get_words(self):\n",
        "      return list(self._word2count.keys())\n",
        "\n",
        "    def num_words(self):\n",
        "      return self._n_words\n",
        "\n",
        "    def word2index(self, word):\n",
        "      return self._word2index[word]\n",
        "\n",
        "    def index2word(self, word):\n",
        "      return self._index2word[word]\n",
        "\n",
        "    def word2count(self, word):\n",
        "      return self._word2count[word]\n",
        "\n",
        "    def add_sentence(self, sentence):\n",
        "        for word in sentence.split(' '):\n",
        "            self.add_word(word)\n",
        "\n",
        "    def add_word(self, word):\n",
        "        if word not in self._word2index:\n",
        "            self._word2index[word] = self._n_words\n",
        "            self._word2count[word] = 1\n",
        "            self._index2word[self._n_words] = word\n",
        "            self._n_words += 1\n",
        "        else:\n",
        "            self._word2count[word] += 1"
      ]
    },
    {
      "cell_type": "markdown",
      "metadata": {
        "editable": false,
        "id": "UT7oI7pXw9wA",
        "tags": []
      },
      "source": [
        "Make a vocab object."
      ]
    },
    {
      "cell_type": "code",
      "execution_count": null,
      "metadata": {
        "editable": false,
        "id": "-FLxtGNgw79Q",
        "tags": [
          "raises-exception"
        ]
      },
      "outputs": [],
      "source": [
        "VOCAB = Vocab(\"imdb\")\n",
        "VOCAB_SIZE = 1000\n",
        "NUM_LABELS = 2"
      ]
    },
    {
      "cell_type": "markdown",
      "metadata": {
        "editable": false,
        "id": "ggqgPtCSxAG-",
        "tags": []
      },
      "source": [
        "Load the first ```n``` frequent words in the vocabulary. Do this by sorting by frequency and then truncating."
      ]
    },
    {
      "cell_type": "code",
      "execution_count": null,
      "metadata": {
        "editable": false,
        "id": "DAiKNELzwC2T",
        "tags": [
          "raises-exception"
        ]
      },
      "outputs": [],
      "source": [
        "# Get word frequency counts\n",
        "word_freq_dict = {}   # key = word, value = frequency\n",
        "for review in ALL['review']:\n",
        "  for word in review:\n",
        "    if word in word_freq_dict:\n",
        "      word_freq_dict[word] += 1\n",
        "    else:\n",
        "      word_freq_dict[word] = 1\n",
        "\n",
        "# Get a list of (word, freq) tuples sorted by frequency\n",
        "kv_list = []  # list of word-freq tuples so can sort\n",
        "for (k,v) in word_freq_dict.items():\n",
        "  kv_list.append((k,v))\n",
        "sorted_kv_list = sorted(kv_list, key=lambda x: x[1], reverse=True)\n",
        "\n",
        "# Load top n words in to vocab object\n",
        "for word, freq in sorted_kv_list[:VOCAB_SIZE]:\n",
        "  VOCAB.add_word(word)"
      ]
    },
    {
      "cell_type": "markdown",
      "metadata": {
        "editable": false,
        "id": "hvh0yHT_IKTi",
        "tags": []
      },
      "source": [
        "# Naive Bayes\n",
        "Naive Bayes Algorithm is based on the Bayes Rule which describes the probability of an event,\n",
        "based on prior knowledge of conditions that might be related to the event.\n",
        "\n",
        "According to Bayes theorem:\n",
        "\n",
        "\n",
        "```Posterior = likelihood * proposition/evidence```\n",
        "\n",
        "or\n",
        "\n",
        "```P(A|B) = P(B|A) * P(A)/P(B)```\n"
      ]
    },
    {
      "cell_type": "markdown",
      "metadata": {
        "editable": false,
        "id": "vELAfeWDRrNq",
        "tags": []
      },
      "source": [
        "Using word presence as features, create an array of features for each review. Each review will thus be an array of size ```len(vocab)``` where each index in the array is a token number and the value in that position is whether the token is present in the review. There will be ```num_rows``` arrays, making a ```num_rows x len(vocab)``` 2D array."
      ]
    },
    {
      "cell_type": "markdown",
      "metadata": {
        "editable": false,
        "id": "DFf6zYmozBtc",
        "tags": []
      },
      "source": [
        "This function creates a bag of words. It returns a vector where each element is a count of the words in the sentence corresponding to the word index."
      ]
    },
    {
      "cell_type": "code",
      "execution_count": null,
      "metadata": {
        "editable": false,
        "id": "DKCwfenwIKTw",
        "tags": [
          "raises-exception"
        ]
      },
      "outputs": [],
      "source": [
        "def make_bow(sentence):\n",
        "    vec = torch.zeros(VOCAB_SIZE, dtype=torch.float64)\n",
        "    for word in sentence:\n",
        "        if word not in VOCAB.get_words():\n",
        "            continue\n",
        "        vec[VOCAB.word2index(word)] += 1\n",
        "    return vec.view(1, -1)"
      ]
    },
    {
      "cell_type": "markdown",
      "metadata": {
        "editable": false,
        "id": "NHweI8gPzOdh",
        "tags": []
      },
      "source": [
        "Prepare data ```X_TRAIN``` is a 2D array of size ```num_reviews x vocab_size``` that contains training data. Each row will be a bag of words, except each index contains a 1 or 0 based on word presence in the example. Each row is a vector of features $\\phi_1 ... \\phi_{|V|}$ assumed to be independent, where $|V|$ is size of the vocabulary. We don't need to know what the features are, only whether they are present in each example in the training set.\n",
        "\n",
        "```X_TEST``` is the same as above but containing testing data.\n",
        "\n"
      ]
    },
    {
      "cell_type": "code",
      "execution_count": null,
      "metadata": {
        "editable": false,
        "id": "c30F5ZwyIKTw",
        "tags": [
          "raises-exception"
        ]
      },
      "outputs": [],
      "source": [
        "# Vectorize text reviews to numbers\n",
        "# Make empty vectors\n",
        "X_TRAIN = np.zeros((len(TRAIN), VOCAB_SIZE))\n",
        "X_TEST = np.zeros((len(TEST), VOCAB_SIZE))\n",
        "\n",
        "# Load in frequency counts\n",
        "for i, row in TRAIN.iterrows():\n",
        "    X_TRAIN[i] = np.array(make_bow(row['review'])) > 0 # The > 0 converts to presence instead of counts\n",
        "\n",
        "for i, row in TEST.iterrows():\n",
        "    X_TEST[i] = np.array(make_bow(row['review'])) > 0 # The > 0 converts to presence instead of counts\n",
        "\n",
        "# The labels\n",
        "Y_TRAIN = np.array(TRAIN['label'])\n",
        "Y_TEST = np.array(TEST['label'])"
      ]
    },
    {
      "cell_type": "markdown",
      "metadata": {
        "editable": false,
        "id": "ao16p7_U7Zdz",
        "tags": []
      },
      "source": [
        "What you want to do is to compute probabilities over the training data and then apply those probabilities to the testing examples. Use the Bayes formula to compute $P_{\\rm test}(L_{+}|\\phi_{0:|V|})$ and $P_{\\rm test}(L_{-}|\\phi_{0:|V|})$ for each review. Classify examples based on whether one probability is higher than another. That is, $sign(P_{\\rm test}(L_{+}|\\phi_{0:|V|}) - P_{\\rm test}(L_{-}|\\phi_{0:|V|}))$ indicates a positive review when greater than 0 and a negative review when less than 0.\n",
        "\n",
        "**Hint:** You do not need to implement any loops. Numpy indexing and slicing operations, along with built in functions like `.mean()`, `.sum()`, etc. will allow all operations to be performed on each row of the data in parallel."
      ]
    },
    {
      "cell_type": "markdown",
      "metadata": {
        "editable": false,
        "id": "Q2ch6U7uNmeN",
        "tags": []
      },
      "source": [
        "Step 1: Compute the positive label condition:\n",
        "$P(L_{+}|\\phi_{0:|V|}) = P(\\phi_{0:|V|}|L_{+})P(L_{+}) / P(\\phi_{0:|V|})$"
      ]
    },
    {
      "cell_type": "code",
      "execution_count": null,
      "metadata": {
        "editable": true,
        "id": "AwAAV9Zq7YbI",
        "nbgrader": {
          "grade": false,
          "grade_id": "cell-4e927fe9f8caf96a",
          "locked": false,
          "schema_version": 3,
          "solution": true,
          "task": false
        },
        "tags": [
          "raises-exception"
        ]
      },
      "outputs": [],
      "source": [
        "def prob_pos_given_features(x_train, y_train):\n",
        "  log_probs = np.array([0] * x_train.shape[1])\n",
        "  ### BEGIN SOLUTION\n",
        "\n",
        "  # P(x|y=1) likelihood\n",
        "  probs_list = (1 + x_train[y_train==1].sum(axis=0)) / (1 + sum(y_train))\n",
        "  log_probs = [np.log(p) for p in probs_list]\n",
        "\n",
        "  # # P(y)\n",
        "  # proposition = 0.5  # 50% positive labels\n",
        "  # log_prop = np.log(proposition)\n",
        "\n",
        "  # # P(x)\n",
        "  # evidence_list = (1 + x_train.sum(axis=0)) / (1 + sum(y_train))\n",
        "  # log_evidence = [np.log(p) for p in evidence_list]\n",
        "\n",
        "  ### END SOLUTION\n",
        "  return log_probs"
      ]
    },
    {
      "cell_type": "markdown",
      "metadata": {
        "editable": false,
        "id": "5eeKepgkNpNa",
        "tags": []
      },
      "source": [
        "Step 2: Compute the negative label condition:\n",
        "$P(L_{-}|\\phi_{0:|V|}) = P(\\phi_{0:|V|}|L_{-})P(L_{-}) / P(\\phi_{0:|V|})$"
      ]
    },
    {
      "cell_type": "code",
      "execution_count": null,
      "metadata": {
        "editable": true,
        "id": "nWP9U3BuMess",
        "nbgrader": {
          "grade": false,
          "grade_id": "cell-996c909da2d8b8bd",
          "locked": false,
          "schema_version": 3,
          "solution": true,
          "task": false
        },
        "tags": [
          "raises-exception"
        ]
      },
      "outputs": [],
      "source": [
        "def prob_neg_given_features(x_train, y_train):\n",
        "  log_probs = np.array([0] * x_train.shape[1])\n",
        "  ### BEGIN SOLUTION\n",
        "\n",
        "  # P(x|y=1) likelihood\n",
        "  probs_list = (1 + x_train[y_train==0].sum(axis=0)) / (1 + sum(y_train))   # add smoothing\n",
        "  log_probs = [np.log(p) for p in probs_list]\n",
        "\n",
        "  # # P(y)\n",
        "  # proposition = 0.5  # stil 50%\n",
        "  # log_prop = np.log(proposition)\n",
        "\n",
        "  # # P(x)\n",
        "  # evidence_list = (1 + x_train.sum(axis=0)) / (1 + sum(y_train))       # add smoothing\n",
        "  # log_evidence = [np.log(p) for p in evidence_list]\n",
        "\n",
        "  ### END SOLUTION\n",
        "  return log_probs"
      ]
    },
    {
      "cell_type": "code",
      "execution_count": null,
      "metadata": {
        "editable": false,
        "id": "ZXdgx0Ku9sYq",
        "tags": [
          "raises-exception"
        ]
      },
      "outputs": [],
      "source": [
        "pos_probs = prob_pos_given_features(X_TRAIN, Y_TRAIN)\n",
        "neg_probs = prob_neg_given_features(X_TRAIN, Y_TRAIN)"
      ]
    },
    {
      "cell_type": "markdown",
      "metadata": {
        "editable": false,
        "id": "q9wbtxDZNuj3",
        "tags": []
      },
      "source": [
        "Step 3: Make a label prediction. Subtract (in log scale) the positive from the negative. If the result is greater than zero then it is a prediction of `+` label. If the result is less thn zero then we make a prediction of `-` label."
      ]
    },
    {
      "cell_type": "code",
      "execution_count": null,
      "metadata": {
        "editable": true,
        "id": "xaz7KBdd_CD1",
        "nbgrader": {
          "grade": false,
          "grade_id": "cell-7b4cde57fd68ac07",
          "locked": false,
          "schema_version": 3,
          "solution": true,
          "task": false
        },
        "tags": [
          "raises-exception"
        ]
      },
      "outputs": [],
      "source": [
        "def naive_bayes(x, pos_probs, neg_probs):\n",
        "  label = 0\n",
        "  ### BEGIN SOLUTION\n",
        "\n",
        "  # pos/neg proposition both 0.5, ignore alpha\n",
        "  pred_pos = np.log(0.5) + sum(x * pos_probs)\n",
        "  pred_neg = np.log(0.5) + sum(x * neg_probs)\n",
        "\n",
        "  label = (pred_pos - pred_neg > 0)\n",
        "\n",
        "  ### END SOLUTION\n",
        "  return label"
      ]
    },
    {
      "cell_type": "markdown",
      "metadata": {
        "editable": false,
        "id": "VUOFzFVU_is3",
        "tags": []
      },
      "source": [
        "# Naive Bayes Test (20 Points)"
      ]
    },
    {
      "cell_type": "code",
      "execution_count": null,
      "metadata": {
        "editable": false,
        "id": "T1rcPgnWP_6V",
        "tags": [
          "raises-exception"
        ]
      },
      "outputs": [],
      "source": [
        "# student check - accuracies >= 78% will receive full credit (no credit for less than 78%)\n",
        "ag.test_naive_bayes(X_TRAIN, Y_TRAIN, X_TEST, Y_TEST)"
      ]
    },
    {
      "cell_type": "markdown",
      "metadata": {
        "editable": false,
        "id": "hUTymITZIKT5",
        "tags": []
      },
      "source": [
        "# Logistic Regression - Part 1\n",
        "\n",
        "We will be using a neural network to perform logistic regression. We will use word counts as the input feature vector.\n"
      ]
    },
    {
      "cell_type": "markdown",
      "metadata": {
        "editable": false,
        "id": "DWKJNb2CXhe5",
        "tags": []
      },
      "source": [
        "Reload the data, but use word counts instead of word presence."
      ]
    },
    {
      "cell_type": "code",
      "execution_count": null,
      "metadata": {
        "editable": false,
        "id": "sBjsMbDSIKT6",
        "tags": [
          "raises-exception"
        ]
      },
      "outputs": [],
      "source": [
        "# Randomize the data\n",
        "TRAIN = TRAIN.sample(frac=1).reset_index(drop=True)\n",
        "TEST = TEST.sample(frac=1).reset_index(drop=True)\n",
        "\n",
        "# Vectorize text reviews to numbers\n",
        "X_TRAIN = np.zeros((len(TRAIN), VOCAB_SIZE))\n",
        "X_TEST = np.zeros((len(TEST), VOCAB_SIZE))\n",
        "\n",
        "for i, row in TRAIN.iterrows():\n",
        "  X_TRAIN[i] = np.array(make_bow(row['review']))\n",
        "\n",
        "for i, row in TEST.iterrows():\n",
        "  X_TEST[i] = np.array(make_bow(row['review']))\n",
        "\n",
        "Y_TRAIN = np.array(TRAIN['label'])\n",
        "Y_TEST = np.array(TEST['label'])"
      ]
    },
    {
      "cell_type": "markdown",
      "metadata": {
        "editable": false,
        "id": "mSBC93Ge6F1e",
        "tags": []
      },
      "source": [
        "Make a logistic classifier torch neural network.\n",
        "\n",
        "Complete the constructor and forward function. The net will take an arbitrary number of outputs, but for binary logistic regression, only one is needed because the single output neuron can take a value that is between 0 and 1, with 0 meaning negative sentiment and 1 meaning positive sentiment. There should only be as many parameters as ```num_features x (num_labels-1)``` in binary logistic regression and ```num_features x num_labels``` for multinomial logistic regression.\n",
        "\n",
        "The input will be a one-hot vector of size `vocab_size`."
      ]
    },
    {
      "cell_type": "code",
      "execution_count": null,
      "metadata": {
        "editable": true,
        "id": "yeJnVl7NIKT8",
        "nbgrader": {
          "grade": false,
          "grade_id": "cell-c6124df74ac9d8f1",
          "locked": false,
          "schema_version": 3,
          "solution": true,
          "task": false
        },
        "tags": [
          "raises-exception"
        ]
      },
      "outputs": [],
      "source": [
        "# Defining neural network structure\n",
        "class BoWClassifier(nn.Module):  # inheriting from nn.Module!\n",
        "\n",
        "  def __init__(self, num_labels, vocab_size):\n",
        "    super(BoWClassifier, self).__init__()\n",
        "\n",
        "    # BEGIN SOLUTION\n",
        "\n",
        "    self.linear1 = nn.Linear(vocab_size, num_labels)    # only 1 layer\n",
        "    # self.sigmoid2 = nn.Sigmoid()\n",
        "    # END SOLUTION\n",
        "\n",
        "  def forward(self, bow_vec):\n",
        "    # BEGIN SOLUTION\n",
        "\n",
        "    inter1 = self.linear1(bow_vec)\n",
        "    out = torch.sigmoid(inter1)   # need to use torch instead of nn\n",
        "\n",
        "    # END SOLUTION\n",
        "    return out"
      ]
    },
    {
      "cell_type": "code",
      "execution_count": null,
      "metadata": {
        "editable": false,
        "id": "mgPYvkocIKT8",
        "tags": [
          "raises-exception"
        ]
      },
      "outputs": [],
      "source": [
        "# Initialize the model\n",
        "# Use one label because the head can signify a 1 or 0 because of the sigmoid.\n",
        "bow_nn_model = BoWClassifier(NUM_LABELS-1, VOCAB_SIZE)"
      ]
    },
    {
      "cell_type": "markdown",
      "metadata": {
        "editable": false,
        "id": "xaBdfHfDQ5oI",
        "tags": []
      },
      "source": [
        "This function should return two tensors. The first, containing training data, shoud be of size ```batch_size x vocab_size``` for the ```i```th batch. The second should be a list of labels of size ```batch_size```. Both tensors should be of type ```dtype=torch.float```."
      ]
    },
    {
      "cell_type": "code",
      "execution_count": null,
      "metadata": {
        "editable": true,
        "id": "RPxjUwUTPZTq",
        "nbgrader": {
          "grade": false,
          "grade_id": "cell-abf634c3a00755c7",
          "locked": false,
          "schema_version": 3,
          "solution": true,
          "task": false
        },
        "tags": [
          "raises-exception"
        ]
      },
      "outputs": [],
      "source": [
        "def get_batch(i, batch_size, x_data, y_data):\n",
        "  # Make some empty tensors\n",
        "  x = None\n",
        "  y = None\n",
        "  ### BEGIN SOLUTION\n",
        "\n",
        "  x, y = [], []\n",
        "  for j in range(batch_size):\n",
        "    n = i * batch_size + j\n",
        "    x.append(x_data[n])\n",
        "    y.append(y_data[n])\n",
        "\n",
        "  x = torch.tensor(np.array(x), dtype=torch.float32)\n",
        "  y = torch.tensor(np.array(y), dtype=torch.float32)    # ensure same dtype\n",
        "\n",
        "  ### END SOLUTION\n",
        "  return x, y"
      ]
    },
    {
      "cell_type": "markdown",
      "metadata": {
        "editable": false,
        "id": "2eMh98LwOwv_",
        "tags": []
      },
      "source": [
        "# Logistic Regression - Part 1 Test (20 Points)"
      ]
    },
    {
      "cell_type": "code",
      "execution_count": null,
      "metadata": {
        "editable": false,
        "id": "tp-B0qeXNnyo",
        "tags": [
          "raises-exception"
        ]
      },
      "outputs": [],
      "source": [
        "# student check\n",
        "ag.test_batch_output_shape(get_batch, X_TRAIN, Y_TRAIN, VOCAB_SIZE)"
      ]
    },
    {
      "cell_type": "code",
      "execution_count": null,
      "metadata": {
        "editable": false,
        "id": "FdPVSLtrN_2k",
        "tags": [
          "raises-exception"
        ]
      },
      "outputs": [],
      "source": [
        "# student check - your model must have the expected number of layers to receive full credit, no credit otherwise\n",
        "ag.check_bow_architecture(bow_nn_model)"
      ]
    },
    {
      "cell_type": "code",
      "execution_count": null,
      "metadata": {
        "editable": false,
        "id": "FOYrmRVUj7g7",
        "tags": [
          "raises-exception"
        ]
      },
      "outputs": [],
      "source": [
        "# student check\n",
        "ag.test_forward_pass_shape(X_TRAIN, Y_TRAIN, bow_nn_model)"
      ]
    },
    {
      "cell_type": "markdown",
      "metadata": {
        "editable": false,
        "id": "rN5v9cjKif_H",
        "tags": []
      },
      "source": [
        "# Logistic Regression - Part 2\n",
        "\n",
        "Create a dataset as an array of (X_train, label).\n",
        "\n",
        "Complete ```get_batch(i)``` and set ```batch_size``` and ```num_epochs```.\n",
        "\n",
        "Training loop will call ```get_batch()``` with the iteration number and do everything else.\n"
      ]
    },
    {
      "cell_type": "code",
      "execution_count": null,
      "metadata": {
        "editable": false,
        "id": "paJEFuigIKT-",
        "tags": [
          "raises-exception"
        ]
      },
      "outputs": [],
      "source": [
        "# Train the model\n",
        "def train(model, train_data, test_data, epochs, batch_size):\n",
        "  n_iter = len(train_data) // batch_size\n",
        "  print(n_iter, 'batches per epoch')\n",
        "  # Loss Function\n",
        "  loss_function = nn.BCELoss()\n",
        "  # Optimizer initlialization\n",
        "  optimizer = optim.SGD(bow_nn_model.parameters(), lr=0.1)\n",
        "\n",
        "  for epoch in range(epochs):\n",
        "    # Make BOW vector for input features and target label\n",
        "    for i in range(n_iter):\n",
        "      x, y = get_batch(i, batch_size, train_data, test_data)\n",
        "\n",
        "      # Step 3. Run the forward pass.\n",
        "      y_hat = model(x)\n",
        "      y_hat = y_hat.reshape(-1)\n",
        "\n",
        "      # Step 4. Compute the loss, gradients, and update the parameters by\n",
        "      loss = loss_function(y_hat,y)\n",
        "      optimizer.zero_grad()\n",
        "      loss.backward()\n",
        "      optimizer.step()\n",
        "\n",
        "      if (epoch+1)%10 == 0 and (i+1) == n_iter:\n",
        "        print('epoch:', epoch+1,',loss =',loss.item(), ', training accuracy =',(torch.round(y_hat)==y).float().mean())\n",
        "  return model"
      ]
    },
    {
      "cell_type": "code",
      "execution_count": null,
      "metadata": {
        "editable": true,
        "id": "gzD90s3KQgJd",
        "tags": [
          "raises-exception"
        ]
      },
      "outputs": [],
      "source": [
        "# It's ok to modify this cell.\n",
        "# initial 100/1000\n",
        "BATCH_SIZE = 100\n",
        "N_EPOCHS = 1500"
      ]
    },
    {
      "cell_type": "code",
      "execution_count": null,
      "metadata": {
        "editable": false,
        "id": "Tv8Lqg8T949T",
        "scrolled": true,
        "tags": [
          "raises-exception"
        ]
      },
      "outputs": [],
      "source": [
        "try:\n",
        "    bow_nn_model = train(bow_nn_model, X_TRAIN, Y_TRAIN, N_EPOCHS, BATCH_SIZE)\n",
        "except:\n",
        "    print(\"Training failed. Please check your code.\")"
      ]
    },
    {
      "cell_type": "markdown",
      "metadata": {
        "editable": false,
        "id": "G4D7NpQlkBGf",
        "tags": []
      },
      "source": [
        "# Logistic Regression - Part 2 Test (20 Points)"
      ]
    },
    {
      "cell_type": "code",
      "execution_count": null,
      "metadata": {
        "editable": false,
        "id": "qW0uESVguCuL",
        "tags": [
          "raises-exception"
        ]
      },
      "outputs": [],
      "source": [
        "# student check - accuracies >= 78% will receive full credit (no credit for less than 78%)\n",
        "ag.test_model_accuracy_lr(TEST, bow_nn_model)"
      ]
    },
    {
      "cell_type": "markdown",
      "metadata": {
        "editable": false,
        "id": "DphmlDCk5sr5",
        "tags": []
      },
      "source": [
        "# Multinomial Regression\n",
        "\n",
        "Load data."
      ]
    },
    {
      "cell_type": "code",
      "execution_count": null,
      "metadata": {
        "editable": false,
        "id": "SIiy4PBJVh7h",
        "scrolled": true,
        "tags": [
          "raises-exception"
        ]
      },
      "outputs": [],
      "source": [
        "!pip install datasets"
      ]
    },
    {
      "cell_type": "code",
      "execution_count": null,
      "metadata": {
        "editable": false,
        "id": "GrcwUiN-VfSf",
        "tags": [
          "raises-exception"
        ]
      },
      "outputs": [],
      "source": [
        "from datasets import load_dataset"
      ]
    },
    {
      "cell_type": "markdown",
      "metadata": {
        "editable": true,
        "id": "gqcveFex52Fy",
        "tags": []
      },
      "source": [
        "Unlike earlier, we will use a pre-defined set of embeddings, called [GLoVe](https://nlp.stanford.edu/projects/glove/). GLoVe replaces every word with a 100-dimensional vector of floating point values. The advantage of this is that words with similar semantic meanings will have similar vectors. This is important because the vocabulary size of the corpus we will use is 400,000.\n",
        "\n",
        "For the assigment, instead of getting a one-hot vector for each word, the neural network will get a `batch_size x num_words x 100` tensor containing floating point values.\n",
        "\n",
        "Download the GLoVe embedding vectors."
      ]
    },
    {
      "cell_type": "code",
      "execution_count": null,
      "metadata": {
        "editable": false,
        "id": "7zIXPea4pZCi",
        "tags": [
          "raises-exception"
        ]
      },
      "outputs": [],
      "source": [
        "import gensim.downloader"
      ]
    },
    {
      "cell_type": "code",
      "execution_count": null,
      "metadata": {
        "editable": false,
        "id": "-_CNat0Qpf_b",
        "tags": [
          "raises-exception"
        ]
      },
      "outputs": [],
      "source": [
        "glove_vectors = gensim.downloader.load('glove-wiki-gigaword-100')\n",
        "VOCAB_SIZE = len(glove_vectors.vectors)\n",
        "EMBEDDING_DIM = 100"
      ]
    },
    {
      "cell_type": "markdown",
      "metadata": {
        "editable": false,
        "id": "jRcY0APp-9YI",
        "tags": []
      },
      "source": [
        "This function will embed the dataset into sequences of 100-dimension vectors."
      ]
    },
    {
      "cell_type": "code",
      "execution_count": null,
      "metadata": {
        "editable": false,
        "id": "Yo6wUdb9s97G",
        "tags": [
          "raises-exception"
        ]
      },
      "outputs": [],
      "source": [
        "# pad dataset to a maximum review length in words\n",
        "MAX_LEN = 50\n",
        "\n",
        "def get_glove_seq(review, max_len):\n",
        "  seq = np.zeros((max_len, 100))\n",
        "  for i, word in enumerate(review):\n",
        "    if i < max_len and word in glove_vectors:\n",
        "      seq[i] = glove_vectors[word]\n",
        "  return seq"
      ]
    },
    {
      "cell_type": "code",
      "execution_count": null,
      "metadata": {
        "editable": false,
        "id": "ZtpvG4mJnwMf",
        "tags": [
          "raises-exception"
        ]
      },
      "outputs": [],
      "source": [
        "news_data_train = load_dataset(\"ag_news\", split=\"train\").shuffle()\n",
        "news_data_test = load_dataset(\"ag_news\", split=\"test\").shuffle()\n",
        "NEWS_TRAIN = pd.DataFrame(news_data_train)[:5000]\n",
        "NEWS_TEST = pd.DataFrame(news_data_test)[:5000]\n",
        "NUM_LABELS = 4"
      ]
    },
    {
      "cell_type": "code",
      "execution_count": null,
      "metadata": {
        "editable": false,
        "id": "pmx1OElZaAki",
        "tags": [
          "raises-exception"
        ]
      },
      "outputs": [],
      "source": [
        "NEWS_TEST.head()"
      ]
    },
    {
      "cell_type": "markdown",
      "metadata": {
        "editable": false,
        "id": "e5IzjEK0Ixxl",
        "tags": []
      },
      "source": [
        "Train/Test Sets using GloVe embeddings."
      ]
    },
    {
      "cell_type": "code",
      "execution_count": null,
      "metadata": {
        "editable": false,
        "id": "-I8PSBk-I6qM",
        "tags": [
          "raises-exception"
        ]
      },
      "outputs": [],
      "source": [
        "# Vectorize text reviews to numbers\n",
        "X_NEWS_TRAIN = np.zeros((len(NEWS_TRAIN), MAX_LEN, 100))\n",
        "X_NEWS_TEST = np.zeros((len(NEWS_TEST), MAX_LEN, 100))\n",
        "\n",
        "for i, row in NEWS_TRAIN.iterrows():\n",
        "  X_NEWS_TRAIN[i] = get_glove_seq(tokenize_and_clean(row['text'], stem_and_remove_stop_words=False), MAX_LEN)\n",
        "\n",
        "for i, row in NEWS_TEST.iterrows():\n",
        "  X_NEWS_TEST[i] = get_glove_seq(tokenize_and_clean(row['text'], stem_and_remove_stop_words=False), MAX_LEN)\n",
        "\n",
        "Y_NEWS_TRAIN = np.array(NEWS_TRAIN['label'])\n",
        "Y_NEWS_TEST = np.array(NEWS_TEST['label'])\n",
        "NUM_LABELS = 4"
      ]
    },
    {
      "cell_type": "code",
      "execution_count": null,
      "metadata": {
        "editable": true,
        "id": "i1-mK1-EPbQL",
        "nbgrader": {
          "grade": false,
          "grade_id": "cell-64776db849e2cffa",
          "locked": false,
          "schema_version": 3,
          "solution": true,
          "task": false
        },
        "tags": [
          "raises-exception"
        ]
      },
      "outputs": [],
      "source": [
        "# Defining neural network structure\n",
        "class MultinomialBoWClassifier(nn.Module):  # inheriting from nn.Module!\n",
        "  def __init__(self, max_word_len, embedding_dim, num_labels):\n",
        "    super(MultinomialBoWClassifier, self).__init__()\n",
        "    self.max_word_len = max_word_len\n",
        "    self.embedding_dim = embedding_dim\n",
        "    self.num_labels = num_labels\n",
        "    ### BEGIN SOLUTION\n",
        "\n",
        "    self.linear1 = nn.Linear(self.embedding_dim * self.max_word_len, self.num_labels)\n",
        "    # self.softmax2 = nn.LogSoftmax()    # move this to forward as in binary LR\n",
        "\n",
        "    ### END SOLUTION\n",
        "\n",
        "  def forward(self, x):\n",
        "    out = None\n",
        "    ### BEGIN SOLUTION\n",
        "\n",
        "    x = x.reshape(x.shape[0], -1)    # combine the dim and word len together into one\n",
        "    inter1 = self.linear1(x)\n",
        "    out = torch.log_softmax(inter1, dim=0)\n",
        "    # out = self.softmax2(inter1)\n",
        "\n",
        "    ### END SOLUTION\n",
        "    return out"
      ]
    },
    {
      "cell_type": "code",
      "execution_count": null,
      "metadata": {
        "editable": false,
        "id": "_eVavHp7TOxv",
        "tags": [
          "raises-exception"
        ]
      },
      "outputs": [],
      "source": [
        "multibow_model = MultinomialBoWClassifier(max_word_len=MAX_LEN, embedding_dim=EMBEDDING_DIM, num_labels=NUM_LABELS)"
      ]
    },
    {
      "cell_type": "code",
      "execution_count": null,
      "metadata": {
        "editable": false,
        "id": "wc0JD91dP9-a",
        "tags": [
          "raises-exception"
        ]
      },
      "outputs": [],
      "source": [
        "# Train the model\n",
        "def train(model, x_train_data, y_train_data, epochs, batch_size, lr, weight_decay):\n",
        "  print('Training Started!')\n",
        "  optimizer = optim.Adam(model.parameters(), lr=lr, weight_decay=weight_decay)\n",
        "  criterion = nn.CrossEntropyLoss()\n",
        "  n_iter = len(x_train_data) // batch_size\n",
        "  print(n_iter, 'batches per epoch')\n",
        "\n",
        "  for epoch in range(epochs):\n",
        "    num_correct = 0\n",
        "    total_loss = 0.0\n",
        "    model.train()\n",
        "\n",
        "    for i in range(n_iter):\n",
        "      x, y = get_batch(i, batch_size, x_train_data, y_train_data)\n",
        "      x = x\n",
        "      y = y.long()\n",
        "\n",
        "      y_hat = model(x)\n",
        "      loss = criterion(y_hat, y)\n",
        "      total_loss += loss\n",
        "      optimizer.zero_grad()\n",
        "      loss.backward()\n",
        "      optimizer.step()\n",
        "\n",
        "      if (epoch+1)%10 == 0 and (i+1) == n_iter:\n",
        "        print('epoch:', epoch+1,',loss =',loss.item(), ', training accuracy =',(y_hat.argmax(dim=1)==y).float().mean().item())"
      ]
    },
    {
      "cell_type": "code",
      "execution_count": null,
      "metadata": {
        "editable": true,
        "id": "POVLJlC0_mEl",
        "tags": [
          "raises-exception"
        ]
      },
      "outputs": [],
      "source": [
        "# It's ok to modify this cell.\n",
        "BATCH_SIZE = 10\n",
        "N_EPOCHS = 100\n",
        "LEARNING_RATE = 2e-3\n",
        "WEIGHT_DECAY = 1e-2"
      ]
    },
    {
      "cell_type": "code",
      "execution_count": null,
      "metadata": {
        "editable": false,
        "id": "uhVQB2RCbPj7",
        "scrolled": true,
        "tags": [
          "raises-exception"
        ]
      },
      "outputs": [],
      "source": [
        "try:\n",
        "    train(multibow_model, X_NEWS_TRAIN, Y_NEWS_TRAIN, N_EPOCHS, BATCH_SIZE, lr=LEARNING_RATE, weight_decay=WEIGHT_DECAY)\n",
        "except:\n",
        "    print(\"Training failed. Please check your code.\")"
      ]
    },
    {
      "cell_type": "markdown",
      "metadata": {
        "editable": false,
        "id": "50_KqANXCtbs",
        "tags": []
      },
      "source": [
        "# Multinomial Regression - Test (40 Points)"
      ]
    },
    {
      "cell_type": "code",
      "execution_count": null,
      "metadata": {
        "editable": false,
        "id": "Ltz2NZ_4u9Cr",
        "tags": [
          "raises-exception"
        ]
      },
      "outputs": [],
      "source": [
        "# student check - accuracies >= 80% will receive full credit (no credit for less than 80%)\n",
        "ag.test_model_accuracy_mr(X_NEWS_TEST, Y_NEWS_TEST, multibow_model)"
      ]
    },
    {
      "cell_type": "markdown",
      "metadata": {
        "editable": false,
        "id": "hKEYvlbhS7n9",
        "tags": []
      },
      "source": [
        "# Grading\n",
        "\n",
        "Please submit this .ipynb file to Gradescope for grading."
      ]
    },
    {
      "cell_type": "markdown",
      "metadata": {
        "collapsed": false,
        "editable": false,
        "tags": [],
        "id": "yGJoiI-m681a"
      },
      "source": [
        "## Final Grade"
      ]
    },
    {
      "cell_type": "code",
      "execution_count": null,
      "metadata": {
        "editable": false,
        "tags": [
          "raises-exception"
        ],
        "id": "r5xdXQJy681a"
      },
      "outputs": [],
      "source": [
        "# student check\n",
        "ag.FINAL_GRADE()"
      ]
    },
    {
      "cell_type": "markdown",
      "metadata": {
        "collapsed": false,
        "editable": false,
        "tags": [],
        "id": "3QabthAf681b"
      },
      "source": [
        "## Notebook Runtime"
      ]
    },
    {
      "cell_type": "code",
      "execution_count": null,
      "metadata": {
        "editable": false,
        "tags": [
          "raises-exception"
        ],
        "id": "lZGz8usd681b"
      },
      "outputs": [],
      "source": [
        "# end time - notebook execution\n",
        "end_nb = time.time()\n",
        "# print notebook execution time in minutes\n",
        "print(\"Notebook execution time in minutes =\", (end_nb - start_nb)/60)\n",
        "# warn student if notebook execution time is greater than 30 minutes\n",
        "if (end_nb - start_nb)/60 > 30:\n",
        "  print(\"WARNING: Notebook execution time is greater than 30 minutes. Your submission may not complete auto-grading on Gradescope. Please optimize your code to reduce the notebook execution time.\")"
      ]
    }
  ],
  "metadata": {
    "bento_stylesheets": {
      "bento/extensions/flow/main.css": true,
      "bento/extensions/kernel_selector/main.css": true,
      "bento/extensions/kernel_ui/main.css": true,
      "bento/extensions/new_kernel/main.css": true,
      "bento/extensions/system_usage/main.css": true,
      "bento/extensions/theme/main.css": true
    },
    "captumWidgetMessage": {},
    "colab": {
      "gpuType": "T4",
      "private_outputs": true,
      "provenance": [],
      "include_colab_link": true
    },
    "dataExplorerConfig": {},
    "kernelspec": {
      "display_name": "Python 3 (ipykernel)",
      "language": "python",
      "name": "python3"
    },
    "language_info": {
      "codemirror_mode": {
        "name": "ipython",
        "version": 3
      },
      "file_extension": ".py",
      "mimetype": "text/x-python",
      "name": "python",
      "nbconvert_exporter": "python",
      "pygments_lexer": "ipython3",
      "version": "3.8.1"
    },
    "last_base_url": "https://11238.od.fbinfra.net/",
    "last_kernel_id": "8832c409-9272-44ac-a889-c233991c3bb0",
    "last_msg_id": "354bb3e2-f350a4bd64779ec7f6ce4382_4332",
    "last_server_session_id": "5625d4d2-18a1-473d-bf89-0f1a5ecc7c7b",
    "outputWidgetContext": {}
  },
  "nbformat": 4,
  "nbformat_minor": 0
}